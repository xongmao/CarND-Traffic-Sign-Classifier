{
 "cells": [
  {
   "cell_type": "markdown",
   "metadata": {},
   "source": [
    "# Self-Driving Car Engineer Nanodegree\n",
    "\n",
    "## Deep Learning\n",
    "\n",
    "## Project: Build a Traffic Sign Recognition Classifier\n",
    "\n",
    "In this notebook, a template is provided for you to implement your functionality in stages, which is required to successfully complete this project. If additional code is required that cannot be included in the notebook, be sure that the Python code is successfully imported and included in your submission if necessary. \n",
    "\n",
    "> **Note**: Once you have completed all of the code implementations, you need to finalize your work by exporting the iPython Notebook as an HTML document. Before exporting the notebook to html, all of the code cells need to have been run so that reviewers can see the final implementation and output. You can then export the notebook by using the menu above and navigating to  \\n\",\n",
    "    \"**File -> Download as -> HTML (.html)**. Include the finished document along with this notebook as your submission. \n",
    "\n",
    "In addition to implementing code, there is a writeup to complete. The writeup should be completed in a separate file, which can be either a markdown file or a pdf document. There is a [write up template](https://github.com/udacity/CarND-Traffic-Sign-Classifier-Project/blob/master/writeup_template.md) that can be used to guide the writing process. Completing the code template and writeup template will cover all of the [rubric points](https://review.udacity.com/#!/rubrics/481/view) for this project.\n",
    "\n",
    "The [rubric](https://review.udacity.com/#!/rubrics/481/view) contains \"Stand Out Suggestions\" for enhancing the project beyond the minimum requirements. The stand out suggestions are optional. If you decide to pursue the \"stand out suggestions\", you can include the code in this Ipython notebook and also discuss the results in the writeup file.\n",
    "\n",
    "\n",
    ">**Note:** Code and Markdown cells can be executed using the **Shift + Enter** keyboard shortcut. In addition, Markdown cells can be edited by typically double-clicking the cell to enter edit mode."
   ]
  },
  {
   "cell_type": "markdown",
   "metadata": {},
   "source": [
    "---\n",
    "## Step 0: Load The Data"
   ]
  },
  {
   "cell_type": "code",
   "execution_count": 1,
   "metadata": {},
   "outputs": [],
   "source": [
    "# Load pickled data\n",
    "import pickle\n",
    "\n",
    "# TODO: Fill this in based on where you saved the training and testing data\n",
    "\n",
    "training_file = 'train.p'\n",
    "validation_file = 'valid.p'\n",
    "testing_file = 'test.p'\n",
    "\n",
    "with open(training_file, mode='rb') as f:\n",
    "    train = pickle.load(f)\n",
    "with open(validation_file, mode='rb') as f:\n",
    "    valid = pickle.load(f)\n",
    "with open(testing_file, mode='rb') as f:\n",
    "    test = pickle.load(f)\n",
    "    \n",
    "X_train, y_train = train['features'], train['labels']\n",
    "X_valid, y_valid = valid['features'], valid['labels']\n",
    "X_test, y_test = test['features'], test['labels']"
   ]
  },
  {
   "cell_type": "markdown",
   "metadata": {},
   "source": [
    "---\n",
    "\n",
    "## Step 1: Dataset Summary & Exploration\n",
    "\n",
    "The pickled data is a dictionary with 4 key/value pairs:\n",
    "\n",
    "- `'features'` is a 4D array containing raw pixel data of the traffic sign images, (num examples, width, height, channels).\n",
    "- `'labels'` is a 1D array containing the label/class id of the traffic sign. The file `signnames.csv` contains id -> name mappings for each id.\n",
    "- `'sizes'` is a list containing tuples, (width, height) representing the original width and height the image.\n",
    "- `'coords'` is a list containing tuples, (x1, y1, x2, y2) representing coordinates of a bounding box around the sign in the image. **THESE COORDINATES ASSUME THE ORIGINAL IMAGE. THE PICKLED DATA CONTAINS RESIZED VERSIONS (32 by 32) OF THESE IMAGES**\n",
    "\n",
    "Complete the basic data summary below. Use python, numpy and/or pandas methods to calculate the data summary rather than hard coding the results. For example, the [pandas shape method](http://pandas.pydata.org/pandas-docs/stable/generated/pandas.DataFrame.shape.html) might be useful for calculating some of the summary results. "
   ]
  },
  {
   "cell_type": "markdown",
   "metadata": {},
   "source": [
    "### Provide a Basic Summary of the Data Set Using Python, Numpy and/or Pandas"
   ]
  },
  {
   "cell_type": "code",
   "execution_count": 2,
   "metadata": {},
   "outputs": [
    {
     "name": "stdout",
     "output_type": "stream",
     "text": [
      "Number of training examples = 34799\n",
      "Number of testing examples = 12630\n",
      "Image data shape = (32, 32, 3)\n",
      "Number of classes = 43\n"
     ]
    }
   ],
   "source": [
    "### Replace each question mark with the appropriate value. \n",
    "### Use python, pandas or numpy methods rather than hard coding the results\n",
    "import numpy as np\n",
    "\n",
    "# TODO: Number of training examples\n",
    "n_train = len(X_train)\n",
    "\n",
    "# TODO: Number of validation examples\n",
    "n_validation = len(X_valid)\n",
    "\n",
    "# TODO: Number of testing examples.\n",
    "n_test = len(X_test)\n",
    "\n",
    "# TODO: What's the shape of an traffic sign image?\n",
    "_, W, H, D = X_train.shape\n",
    "image_shape = (W, H, D)\n",
    "\n",
    "# TODO: How many unique classes/labels there are in the dataset.\n",
    "n_classes = len(np.unique(y_train))\n",
    "\n",
    "print(\"Number of training examples =\", n_train)\n",
    "print(\"Number of testing examples =\", n_test)\n",
    "print(\"Image data shape =\", image_shape)\n",
    "print(\"Number of classes =\", n_classes)"
   ]
  },
  {
   "cell_type": "markdown",
   "metadata": {},
   "source": [
    "### Include an exploratory visualization of the dataset"
   ]
  },
  {
   "cell_type": "markdown",
   "metadata": {},
   "source": [
    "Visualize the German Traffic Signs Dataset using the pickled file(s). This is open ended, suggestions include: plotting traffic sign images, plotting the count of each sign, etc. \n",
    "\n",
    "The [Matplotlib](http://matplotlib.org/) [examples](http://matplotlib.org/examples/index.html) and [gallery](http://matplotlib.org/gallery.html) pages are a great resource for doing visualizations in Python.\n",
    "\n",
    "**NOTE:** It's recommended you start with something simple first. If you wish to do more, come back to it after you've completed the rest of the sections. It can be interesting to look at the distribution of classes in the training, validation and test set. Is the distribution the same? Are there more examples of some classes than others?"
   ]
  },
  {
   "cell_type": "code",
   "execution_count": 3,
   "metadata": {},
   "outputs": [],
   "source": [
    "### Data exploration visualization code goes here.\n",
    "### Feel free to use as many code cells as needed.\n",
    "import matplotlib.pyplot as plt\n",
    "# Visualizations will be shown in the notebook.\n",
    "%matplotlib inline"
   ]
  },
  {
   "cell_type": "markdown",
   "metadata": {},
   "source": [
    "----\n",
    "\n",
    "## Step 2: Design and Test a Model Architecture\n",
    "\n",
    "Design and implement a deep learning model that learns to recognize traffic signs. Train and test your model on the [German Traffic Sign Dataset](http://benchmark.ini.rub.de/?section=gtsrb&subsection=dataset).\n",
    "\n",
    "The LeNet-5 implementation shown in the [classroom](https://classroom.udacity.com/nanodegrees/nd013/parts/fbf77062-5703-404e-b60c-95b78b2f3f9e/modules/6df7ae49-c61c-4bb2-a23e-6527e69209ec/lessons/601ae704-1035-4287-8b11-e2c2716217ad/concepts/d4aca031-508f-4e0b-b493-e7b706120f81) at the end of the CNN lesson is a solid starting point. You'll have to change the number of classes and possibly the preprocessing, but aside from that it's plug and play! \n",
    "\n",
    "With the LeNet-5 solution from the lecture, you should expect a validation set accuracy of about 0.89. To meet specifications, the validation set accuracy will need to be at least 0.93. It is possible to get an even higher accuracy, but 0.93 is the minimum for a successful project submission. \n",
    "\n",
    "There are various aspects to consider when thinking about this problem:\n",
    "\n",
    "- Neural network architecture (is the network over or underfitting?)\n",
    "- Play around preprocessing techniques (normalization, rgb to grayscale, etc)\n",
    "- Number of examples per label (some have more than others).\n",
    "- Generate fake data.\n",
    "\n",
    "Here is an example of a [published baseline model on this problem](http://yann.lecun.com/exdb/publis/pdf/sermanet-ijcnn-11.pdf). It's not required to be familiar with the approach used in the paper but, it's good practice to try to read papers like these."
   ]
  },
  {
   "cell_type": "markdown",
   "metadata": {},
   "source": [
    "### Pre-process the Data Set (normalization, grayscale, etc.)"
   ]
  },
  {
   "cell_type": "markdown",
   "metadata": {},
   "source": [
    "Minimally, the image data should be normalized so that the data has mean zero and equal variance. For image data, `(pixel - 128)/ 128` is a quick way to approximately normalize the data and can be used in this project. \n",
    "\n",
    "Other pre-processing steps are optional. You can try different techniques to see if it improves performance. \n",
    "\n",
    "Use the code cell (or multiple code cells, if necessary) to implement the first step of your project."
   ]
  },
  {
   "cell_type": "code",
   "execution_count": 4,
   "metadata": {},
   "outputs": [
    {
     "ename": "TypeError",
     "evalue": "text() missing 1 required positional argument: 's'",
     "output_type": "error",
     "traceback": [
      "\u001b[0;31m---------------------------------------------------------------------------\u001b[0m",
      "\u001b[0;31mTypeError\u001b[0m                                 Traceback (most recent call last)",
      "\u001b[0;32m<ipython-input-4-0b1be9a5635c>\u001b[0m in \u001b[0;36m<module>\u001b[0;34m()\u001b[0m\n\u001b[1;32m     21\u001b[0m \u001b[0;34m\u001b[0m\u001b[0m\n\u001b[1;32m     22\u001b[0m \u001b[0;32mfor\u001b[0m \u001b[0mxx\u001b[0m\u001b[0;34m,\u001b[0m\u001b[0myy\u001b[0m \u001b[0;32min\u001b[0m \u001b[0mzip\u001b[0m\u001b[0;34m(\u001b[0m\u001b[0mx\u001b[0m\u001b[0;34m,\u001b[0m\u001b[0mleft\u001b[0m\u001b[0;34m)\u001b[0m\u001b[0;34m:\u001b[0m\u001b[0;34m\u001b[0m\u001b[0m\n\u001b[0;32m---> 23\u001b[0;31m     \u001b[0mplt\u001b[0m\u001b[0;34m.\u001b[0m\u001b[0mtext\u001b[0m\u001b[0;34m(\u001b[0m\u001b[0mxx\u001b[0m\u001b[0;34m,\u001b[0m \u001b[0myy\u001b[0m\u001b[0;34m,\u001b[0m \u001b[0mha\u001b[0m\u001b[0;34m=\u001b[0m\u001b[0;34m'center'\u001b[0m\u001b[0;34m,\u001b[0m \u001b[0mva\u001b[0m\u001b[0;34m=\u001b[0m \u001b[0;34m'bottom'\u001b[0m\u001b[0;34m)\u001b[0m\u001b[0;34m\u001b[0m\u001b[0m\n\u001b[0m\u001b[1;32m     24\u001b[0m \u001b[0;34m\u001b[0m\u001b[0m\n\u001b[1;32m     25\u001b[0m \u001b[0mplt\u001b[0m\u001b[0;34m.\u001b[0m\u001b[0mylim\u001b[0m\u001b[0;34m(\u001b[0m\u001b[0;36m0\u001b[0m\u001b[0;34m,\u001b[0m\u001b[0;36m0.07\u001b[0m\u001b[0;34m)\u001b[0m\u001b[0;34m\u001b[0m\u001b[0m\n",
      "\u001b[0;31mTypeError\u001b[0m: text() missing 1 required positional argument: 's'"
     ]
    },
    {
     "data": {
      "image/png": "[encoded data removed]",
      "text/plain": [
       "<matplotlib.figure.Figure at 0x7f51339c2d30>"
      ]
     },
     "metadata": {},
     "output_type": "display_data"
    }
   ],
   "source": [
    "### Preprocess the data here. It is required to normalize the data. Other preprocessing steps could include \n",
    "### converting to grayscale, etc.\n",
    "### Feel free to use as many code cells as needed.\n",
    "left = []\n",
    "for i in range( n_classes ):\n",
    "    left.append(0)\n",
    "for i in range( n_classes ):\n",
    "    for j in range(len(X_train)):\n",
    "        if y_train[j]==i:\n",
    "            left[i] = left[i] + 1\n",
    "\n",
    "x = []\n",
    "for i in range( n_classes ):\n",
    "    x.append(i)\n",
    "\n",
    "plt.xlabel('n_classes')\n",
    "plt.ylabel('times')\n",
    "plt.title(\"target disturbution\")\n",
    "\n",
    "plt.bar(left=x, height=left, width=1.0, facecolor = 'yellowgreen', edgecolor = 'white')\n",
    "\n",
    "for xx,yy in zip(x,left):\n",
    "    plt.text(xx, yy, ha='center', va= 'bottom')\n",
    "\n",
    "plt.ylim(0,0.07)\n",
    "plt.show()"
   ]
  },
  {
   "cell_type": "code",
   "execution_count": 5,
   "metadata": {},
   "outputs": [
    {
     "name": "stdout",
     "output_type": "stream",
     "text": [
      "1820\n"
     ]
    }
   ],
   "source": [
    "# data augmentation\n",
    "from PIL import Image\n",
    "for i in range( n_classes ):\n",
    "    if left[i] <= 2000:\n",
    "        left[i] = 2000 - left[i]\n",
    "l=0\n",
    "for i in range( n_classes ):\n",
    "    if left[i]<=2000:\n",
    "        l = l + left[i]\n",
    "        \n",
    "end = len(X_train)\n",
    "x_add = np.zeros((l, W, H, D), dtype=X_train.dtype)\n",
    "y_add = np.zeros(l)\n",
    "k=0\n",
    "j=0\n",
    "print (left[0])\n",
    "for i in range( n_classes ):\n",
    "    #print (i)\n",
    "    #print (left[0])\n",
    "    while True:\n",
    "        while j<end and left[i]!=0:\n",
    "            if y_train[j]==i:\n",
    "                if left[i]!=0 and left[i]<=2000:\n",
    "                    angle = np.random.uniform(low=-10,high=10,size=None)\n",
    "                    img = X_train[j]\n",
    "                    img = Image.fromarray(img)\n",
    "                    im_rotate = img.rotate(angle)\n",
    "                    x_add[k,:,:,:] = np.array(im_rotate)\n",
    "                    y_add[k] = i\n",
    "                    k = k+1\n",
    "                    left[i] = left[i]-1\n",
    "            j=j+1\n",
    "        j=0\n",
    "        if left[i]==0 or left[i]>2000:\n",
    "            break\n",
    "\n",
    "\n",
    "X_train = np.concatenate((X_train, x_add.astype('uint8')),axis=0)\n",
    "y_train = np.concatenate((y_train, y_add),axis=0)\n",
    "del x_add, y_add"
   ]
  },
  {
   "cell_type": "code",
   "execution_count": 6,
   "metadata": {},
   "outputs": [
    {
     "ename": "TypeError",
     "evalue": "text() missing 1 required positional argument: 's'",
     "output_type": "error",
     "traceback": [
      "\u001b[0;31m---------------------------------------------------------------------------\u001b[0m",
      "\u001b[0;31mTypeError\u001b[0m                                 Traceback (most recent call last)",
      "\u001b[0;32m<ipython-input-6-2cedb7a090f9>\u001b[0m in \u001b[0;36m<module>\u001b[0;34m()\u001b[0m\n\u001b[1;32m     18\u001b[0m \u001b[0;34m\u001b[0m\u001b[0m\n\u001b[1;32m     19\u001b[0m \u001b[0;32mfor\u001b[0m \u001b[0mxx\u001b[0m\u001b[0;34m,\u001b[0m\u001b[0myy\u001b[0m \u001b[0;32min\u001b[0m \u001b[0mzip\u001b[0m\u001b[0;34m(\u001b[0m\u001b[0mx\u001b[0m\u001b[0;34m,\u001b[0m\u001b[0mres\u001b[0m\u001b[0;34m)\u001b[0m\u001b[0;34m:\u001b[0m\u001b[0;34m\u001b[0m\u001b[0m\n\u001b[0;32m---> 20\u001b[0;31m     \u001b[0mplt\u001b[0m\u001b[0;34m.\u001b[0m\u001b[0mtext\u001b[0m\u001b[0;34m(\u001b[0m\u001b[0mxx\u001b[0m\u001b[0;34m,\u001b[0m \u001b[0myy\u001b[0m\u001b[0;34m,\u001b[0m \u001b[0mha\u001b[0m\u001b[0;34m=\u001b[0m\u001b[0;34m'center'\u001b[0m\u001b[0;34m,\u001b[0m \u001b[0mva\u001b[0m\u001b[0;34m=\u001b[0m \u001b[0;34m'bottom'\u001b[0m\u001b[0;34m)\u001b[0m\u001b[0;34m\u001b[0m\u001b[0m\n\u001b[0m\u001b[1;32m     21\u001b[0m \u001b[0;34m\u001b[0m\u001b[0m\n\u001b[1;32m     22\u001b[0m \u001b[0mplt\u001b[0m\u001b[0;34m.\u001b[0m\u001b[0mylim\u001b[0m\u001b[0;34m(\u001b[0m\u001b[0;36m0\u001b[0m\u001b[0;34m,\u001b[0m\u001b[0;36m0.07\u001b[0m\u001b[0;34m)\u001b[0m\u001b[0;34m\u001b[0m\u001b[0m\n",
      "\u001b[0;31mTypeError\u001b[0m: text() missing 1 required positional argument: 's'"
     ]
    },
    {
     "data": {
      "image/png": "[encoded data removed]",
      "text/plain": [
       "<matplotlib.figure.Figure at 0x7f51339aeba8>"
      ]
     },
     "metadata": {},
     "output_type": "display_data"
    }
   ],
   "source": [
    "res = []\n",
    "for i in range( n_classes ):\n",
    "    res.append(0)\n",
    "for i in range( n_classes ):\n",
    "    for j in range(len(X_train)):\n",
    "        if y_train[j]==i:\n",
    "            res[i] = res[i] + 1\n",
    "\n",
    "x = []\n",
    "for i in range( n_classes ):\n",
    "    x.append(i)\n",
    "\n",
    "plt.xlabel('n_classes')\n",
    "plt.ylabel('times')\n",
    "plt.title(\"target disturbution\")\n",
    "\n",
    "plt.bar(left=x, height=res, width=1.0, facecolor = 'yellowgreen', edgecolor = 'white')\n",
    "\n",
    "for xx,yy in zip(x,res):\n",
    "    plt.text(xx, yy, ha='center', va= 'bottom')\n",
    "\n",
    "plt.ylim(0,0.07)\n",
    "plt.show()"
   ]
  },
  {
   "cell_type": "code",
   "execution_count": 4,
   "metadata": {},
   "outputs": [],
   "source": [
    "import tensorflow as tf\n",
    "import cv2\n",
    "from sklearn.utils import shuffle\n",
    "\n",
    "EPOCHS = 20\n",
    "BATCH_SIZE = 32\n",
    "X_train, y_train = shuffle(X_train, y_train)"
   ]
  },
  {
   "cell_type": "code",
   "execution_count": 5,
   "metadata": {},
   "outputs": [],
   "source": [
    "def preprocess(data):\n",
    "    imgs, w, h, _ = data.shape\n",
    "    res = np.zeros((imgs,w,h,1))\n",
    "    for i in range(len(data)):\n",
    "        img = data[i]\n",
    "        gray = cv2.cvtColor(img,cv2.COLOR_RGB2GRAY)\n",
    "        res[i,:,:,0] = (gray-128) / 128.\n",
    "    return res"
   ]
  },
  {
   "cell_type": "code",
   "execution_count": 6,
   "metadata": {},
   "outputs": [],
   "source": [
    "def preprocess2(data):\n",
    "    imgs, w, h, _ = data.shape\n",
    "    res = np.zeros((imgs,w,h,1))\n",
    "    for i in range(len(data)):\n",
    "        img = data[i]\n",
    "        res[i,:,:,0] = cv2.cvtColor(img,cv2.COLOR_RGB2GRAY)\n",
    "    return res"
   ]
  },
  {
   "cell_type": "code",
   "execution_count": 7,
   "metadata": {},
   "outputs": [
    {
     "data": {
      "image/png": "[encoded data removed]",
      "text/plain": [
       "<matplotlib.figure.Figure at 0x7f87f100f978>"
      ]
     },
     "metadata": {},
     "output_type": "display_data"
    }
   ],
   "source": [
    "img_show = X_train[:5]\n",
    "gray_show = preprocess2(img_show)\n",
    "\n",
    "_,ax = plt.subplots(len(img_show),2,figsize=(4,8))\n",
    "j = 0\n",
    "for i in range(len(img_show)):\n",
    "    img = img_show[i]\n",
    "    ax[i,j].imshow(img)\n",
    "    ax[i,j].axis('off')\n",
    "    j+=1\n",
    "    ax[i,j].imshow(gray_show[i,:,:,0],cmap='gray')\n",
    "    ax[i,j].axis('off')\n",
    "    j = 0\n",
    "plt.show()"
   ]
  },
  {
   "cell_type": "code",
   "execution_count": 16,
   "metadata": {},
   "outputs": [
    {
     "data": {
      "image/png": "[encoded data removed]",
      "text/plain": [
       "<matplotlib.figure.Figure at 0x7f87e8273278>"
      ]
     },
     "metadata": {},
     "output_type": "display_data"
    }
   ],
   "source": [
    "pre_show = preprocess(img_show)\n",
    "_,ax = plt.subplots(len(img_show),2,figsize=(4,8))\n",
    "j = 0\n",
    "for i in range(len(img_show)):\n",
    "    img = img_show[i]\n",
    "    ax[i,j].imshow(img)\n",
    "    ax[i,j].axis('off')\n",
    "    j+=1\n",
    "    ax[i,j].imshow(pre_show[i,:,:,0],cmap='gray')\n",
    "    ax[i,j].axis('off')\n",
    "    j = 0\n",
    "plt.show()"
   ]
  },
  {
   "cell_type": "markdown",
   "metadata": {},
   "source": [
    "### Model Architecture"
   ]
  },
  {
   "cell_type": "code",
   "execution_count": 9,
   "metadata": {},
   "outputs": [],
   "source": [
    "### Define your architecture here.\n",
    "### Feel free to use as many code cells as needed.\n",
    "from tensorflow.contrib.layers import flatten\n",
    "\n",
    "def LeNet(x):    \n",
    "    # Arguments used for tf.truncated_normal, randomly defines variables for the weights and biases for each layer\n",
    "    mu = 0\n",
    "    sigma = 0.1\n",
    "    \n",
    "    # SOLUTION: Layer 1: Convolutional. Input = 32x32x1. Output = 28x28x6.\n",
    "    conv1_W = tf.Variable(tf.truncated_normal(shape=(5, 5, 1, 6), mean = mu, stddev = sigma))\n",
    "    conv1_b = tf.Variable(tf.zeros(6))\n",
    "    conv1   = tf.nn.conv2d(x, conv1_W, strides=[1, 1, 1, 1], padding='VALID') + conv1_b\n",
    "\n",
    "    # SOLUTION: Activation.\n",
    "    conv1 = tf.nn.relu(conv1)\n",
    "\n",
    "    # SOLUTION: Pooling. Input = 28x28x6. Output = 14x14x6.\n",
    "    conv1 = tf.nn.max_pool(conv1, ksize=[1, 2, 2, 1], strides=[1, 2, 2, 1], padding='VALID')\n",
    "\n",
    "    # SOLUTION: Layer 2: Convolutional. Output = 10x10x16.\n",
    "    conv2_W = tf.Variable(tf.truncated_normal(shape=(5, 5, 6, 16), mean = mu, stddev = sigma))\n",
    "    conv2_b = tf.Variable(tf.zeros(16))\n",
    "    conv2   = tf.nn.conv2d(conv1, conv2_W, strides=[1, 1, 1, 1], padding='VALID') + conv2_b\n",
    "    \n",
    "    # SOLUTION: Activation.\n",
    "    conv2 = tf.nn.relu(conv2)\n",
    "\n",
    "    # SOLUTION: Pooling. Input = 10x10x16. Output = 5x5x16.\n",
    "    conv2 = tf.nn.max_pool(conv2, ksize=[1, 2, 2, 1], strides=[1, 2, 2, 1], padding='VALID')\n",
    "\n",
    "    # SOLUTION: Flatten. Input = 5x5x16. Output = 400.\n",
    "    fc0   = flatten(conv2)\n",
    "    \n",
    "    # SOLUTION: Layer 3: Fully Connected. Input = 400. Output = 120.\n",
    "    fc1_W = tf.Variable(tf.truncated_normal(shape=(400, 120), mean = mu, stddev = sigma))\n",
    "    fc1_b = tf.Variable(tf.zeros(120))\n",
    "    fc1   = tf.matmul(fc0, fc1_W) + fc1_b\n",
    "    \n",
    "    # SOLUTION: Activation.\n",
    "    fc1    = tf.nn.relu(fc1)\n",
    "\n",
    "    # SOLUTION: Layer 4: Fully Connected. Input = 120. Output = 84.\n",
    "    fc2_W  = tf.Variable(tf.truncated_normal(shape=(120, 84), mean = mu, stddev = sigma))\n",
    "    fc2_b  = tf.Variable(tf.zeros(84))\n",
    "    fc2    = tf.matmul(fc1, fc2_W) + fc2_b\n",
    "    \n",
    "    # SOLUTION: Activation.\n",
    "    fc2    = tf.nn.relu(fc2)\n",
    "\n",
    "    # SOLUTION: Layer 5: Fully Connected. Input = 84. Output = 43.\n",
    "    fc3_W  = tf.Variable(tf.truncated_normal(shape=(84, 43), mean = mu, stddev = sigma))\n",
    "    fc3_b  = tf.Variable(tf.zeros(43))\n",
    "    logits = tf.matmul(fc2, fc3_W) + fc3_b\n",
    "    \n",
    "    return logits"
   ]
  },
  {
   "cell_type": "markdown",
   "metadata": {},
   "source": [
    "### Train, Validate and Test the Model"
   ]
  },
  {
   "cell_type": "markdown",
   "metadata": {},
   "source": [
    "A validation set can be used to assess how well the model is performing. A low accuracy on the training and validation\n",
    "sets imply underfitting. A high accuracy on the training set but low accuracy on the validation set implies overfitting."
   ]
  },
  {
   "cell_type": "code",
   "execution_count": 10,
   "metadata": {},
   "outputs": [],
   "source": [
    "### Train your model here.\n",
    "### Calculate and report the accuracy on the training and validation set.\n",
    "### Once a final model architecture is selected, \n",
    "### the accuracy on the test set should be calculated and reported as well.\n",
    "### Feel free to use as many code cells as needed.\n",
    "x = tf.placeholder(tf.float32, (None, 32, 32, 1))\n",
    "y = tf.placeholder(tf.int32, (None))\n",
    "one_hot_y = tf.one_hot(y, 43)\n",
    "\n",
    "rate = 0.001\n",
    "logits = LeNet(x)\n",
    "prediction = tf.nn.softmax(logits)\n",
    "cross_entropy = tf.nn.softmax_cross_entropy_with_logits(labels=one_hot_y, logits=logits)\n",
    "loss_operation = tf.reduce_mean(cross_entropy)\n",
    "optimizer = tf.train.AdamOptimizer(learning_rate = rate)\n",
    "training_operation = optimizer.minimize(loss_operation)"
   ]
  },
  {
   "cell_type": "code",
   "execution_count": 11,
   "metadata": {},
   "outputs": [],
   "source": [
    "correct_prediction = tf.equal(tf.argmax(prediction, 1), tf.argmax(one_hot_y, 1))\n",
    "accuracy_operation = tf.reduce_mean(tf.cast(correct_prediction, tf.float32))\n",
    "confusion_matrix = tf.contrib.metrics.confusion_matrix(tf.argmax(prediction, 1), tf.argmax(one_hot_y, 1))\n",
    "saver = tf.train.Saver()\n",
    "\n",
    "def evaluate(X_data, y_data):\n",
    "    num_examples = len(X_data)\n",
    "    total_accuracy = 0\n",
    "    sess = tf.get_default_session()\n",
    "    for offset in range(0, num_examples, BATCH_SIZE):\n",
    "        batch_x, batch_y = X_data[offset:offset+BATCH_SIZE], y_data[offset:offset+BATCH_SIZE]\n",
    "        accuracy = sess.run(accuracy_operation, feed_dict={x: batch_x, y: batch_y})\n",
    "        total_accuracy += (accuracy * len(batch_x))\n",
    "    return total_accuracy / num_examples\n",
    "\n",
    "def evaluate2(X_data, y_data):\n",
    "    sess = tf.get_default_session()\n",
    "    \n",
    "    matrix = sess.run(confusion_matrix, feed_dict={x: X_data, y: y_data})\n",
    "    recall = 0\n",
    "    precision = 0\n",
    "    accu = []\n",
    "    column = []\n",
    "    line = []\n",
    "    for i in range( len(matrix) ):\n",
    "        accu.append(0)\n",
    "        column.append(0)\n",
    "        line.append(0)\n",
    "    for i in range( len(matrix) ):\n",
    "        accu[i] = matrix[i][i]\n",
    "    for i in range( len(matrix) ):\n",
    "        for j in range( len(matrix) ):\n",
    "            column[i]+=matrix[j][i]\n",
    "    for i in range( len(matrix) ):\n",
    "        for j in range( len(matrix) ):\n",
    "            line[i]+=matrix[i][j]\n",
    "    for i in range( len(matrix) ):\n",
    "        if column[i] != 0:\n",
    "            recall+=float(accu[i])/column[i]\n",
    "    recall = recall/len(matrix)\n",
    "    \n",
    "    for i in range( len(matrix) ):\n",
    "        if line[i] != 0:\n",
    "            precision+=float(accu[i])/line[i]\n",
    "    precision = precision/len(matrix)\n",
    "    \n",
    "    return recall, precision"
   ]
  },
  {
   "cell_type": "code",
   "execution_count": 12,
   "metadata": {},
   "outputs": [
    {
     "name": "stdout",
     "output_type": "stream",
     "text": [
      "Training...\n",
      "\n",
      "EPOCH 1 ...\n",
      "Validation Accuracy = 0.535\n",
      "\n",
      "EPOCH 2 ...\n",
      "Validation Accuracy = 0.669\n",
      "\n",
      "EPOCH 3 ...\n",
      "Validation Accuracy = 0.717\n",
      "\n",
      "EPOCH 4 ...\n",
      "Validation Accuracy = 0.722\n",
      "\n",
      "EPOCH 5 ...\n",
      "Validation Accuracy = 0.751\n",
      "\n",
      "EPOCH 6 ...\n",
      "Validation Accuracy = 0.739\n",
      "\n",
      "EPOCH 7 ...\n",
      "Validation Accuracy = 0.756\n",
      "\n",
      "EPOCH 8 ...\n",
      "Validation Accuracy = 0.759\n",
      "\n",
      "EPOCH 9 ...\n",
      "Validation Accuracy = 0.752\n",
      "\n",
      "EPOCH 10 ...\n",
      "Validation Accuracy = 0.771\n",
      "\n",
      "Model saved\n"
     ]
    }
   ],
   "source": [
    "with tf.Session() as sess:\n",
    "    sess.run(tf.global_variables_initializer())\n",
    "    num_examples = len(X_train)\n",
    "    \n",
    "    print(\"Training...\")\n",
    "    print()\n",
    "    X_train_pre = preprocess(X_train).reshape(-1, W, H, 1)\n",
    "    X_val_pre = preprocess(X_valid).reshape(-1, W, H, 1)\n",
    "    for i in range(EPOCHS):\n",
    "        X_train_pre, y_train = shuffle(X_train_pre, y_train)\n",
    "        for offset in range(0, num_examples, BATCH_SIZE):\n",
    "            end = offset + BATCH_SIZE\n",
    "            batch_x, batch_y = X_train_pre[offset:end], y_train[offset:end]\n",
    "            sess.run(training_operation, feed_dict={x: batch_x, y: batch_y})\n",
    "            \n",
    "        validation_accuracy = evaluate(X_val_pre, y_valid)\n",
    "        print(\"EPOCH {} ...\".format(i+1))\n",
    "        print(\"Validation Accuracy = {:.3f}\".format(validation_accuracy))\n",
    "        print()\n",
    "        \n",
    "    saver.save(sess, './lenet')\n",
    "    print(\"Model saved\")"
   ]
  },
  {
   "cell_type": "code",
   "execution_count": 13,
   "metadata": {},
   "outputs": [
    {
     "name": "stdout",
     "output_type": "stream",
     "text": [
      "INFO:tensorflow:Restoring parameters from ./lenet\n",
      "Test Accuracy = 0.779\n",
      "Test Recall = 0.705\n",
      "Test Precision = 0.735\n"
     ]
    }
   ],
   "source": [
    "with tf.Session() as sess:\n",
    "    saver.restore(sess, tf.train.latest_checkpoint('.'))\n",
    "    X_test_prep = preprocess(X_test).reshape(-1, W, H, 1)\n",
    "    test_accuracy = evaluate(X_test_prep,y_test)\n",
    "    test_recall, test_precision = evaluate2(X_test_prep,y_test)\n",
    "    print(\"Test Accuracy = {:.3f}\".format(test_accuracy))\n",
    "    print(\"Test Recall = {:.3f}\".format(test_recall))\n",
    "    print(\"Test Precision = {:.3f}\".format(test_precision))"
   ]
  },
  {
   "cell_type": "code",
   "execution_count": 9,
   "metadata": {},
   "outputs": [],
   "source": [
    "# densenet model\n",
    "x = tf.placeholder(tf.float32, (None, 32, 32, 1))\n",
    "y = tf.placeholder(tf.int32, (None))\n",
    "one_hot_y = tf.one_hot(y, 43)\n",
    "keep_prob = tf.placeholder(tf.float32, name='keep_prob')\n",
    "is_training = tf.placeholder(tf.bool, shape=[])\n",
    "weight_decay=1e-4\n",
    "def conv2d(_input, out_features, kernel_size, strides=[1, 1, 1, 1], padding='SAME'):\n",
    "    in_features = int(_input.get_shape()[-1])\n",
    "    kernel = tf.get_variable(\n",
    "            name='kernel',\n",
    "            shape=[kernel_size, kernel_size, in_features, out_features],\n",
    "            initializer=tf.contrib.layers.variance_scaling_initializer())\n",
    "    output = tf.nn.conv2d(_input, kernel, strides, padding)\n",
    "    return output\n",
    "\n",
    "def avg_pool(_input, k):\n",
    "    ksize = [1, k, k, 1]\n",
    "    strides = [1, k, k, 1]\n",
    "    padding = 'VALID'\n",
    "    output = tf.nn.avg_pool(_input, ksize, strides, padding)\n",
    "    return output\n",
    "\n",
    "def conv_block(x, nb_filter):\n",
    "    with tf.variable_scope(\"composite_function\"):\n",
    "        #output = tf.contrib.layers.batch_norm(output, scale=True, is_training=is_training, updates_collections=None)\n",
    "        output = tf.nn.relu(x)\n",
    "        output = conv2d(output, out_features=nb_filter, kernel_size=3)\n",
    "        output = tf.nn.dropout(output, keep_prob)\n",
    "    return output\n",
    "\n",
    "def dense_block(x, nb_layers, nb_filter, growth_rate):\n",
    "    concat_feat = [x]\n",
    "    for i in range(nb_layers):\n",
    "        with tf.variable_scope(\"layer_%d\" % i):\n",
    "            x = conv_block(x, growth_rate)\n",
    "            concat_feat.append(x)\n",
    "            x = tf.concat(axis=3, values=concat_feat)\n",
    "            nb_filter += growth_rate\n",
    "    return x, nb_filter\n",
    "\n",
    "def transition_layer(_input, out_features):\n",
    "    with tf.variable_scope(\"composite_function\"):\n",
    "        # BN\n",
    "        #output = tf.contrib.layers.batch_norm(_input, scale=True, is_training=is_training, updates_collections=None)\n",
    "        # ReLU\n",
    "        #output = tf.nn.relu(output)\n",
    "        # convolution\n",
    "        output = conv2d(_input, out_features=out_features, kernel_size=1)\n",
    "        # dropout(in case of training and in case it is no 1.0)\n",
    "        output = tf.nn.dropout(output, keep_prob)\n",
    "        # run average pooling\n",
    "        output = avg_pool(output, k=2)\n",
    "        output = tf.contrib.layers.batch_norm(output, scale=True, is_training=is_training, updates_collections=None)\n",
    "    return output\n",
    "\n",
    "def transition_layer_to_classes(_input):\n",
    "    # BN\n",
    "    output = tf.contrib.layers.batch_norm(_input, scale=True, is_training=is_training, updates_collections=None)\n",
    "    # ReLU\n",
    "    output = tf.nn.relu(output)\n",
    "    # average pooling\n",
    "    last_pool_kernel = int(output.get_shape()[-2])\n",
    "    output = avg_pool(output, k=last_pool_kernel)\n",
    "    # FC\n",
    "    features_total = int(output.get_shape()[-1])\n",
    "    output = tf.reshape(output, [-1, features_total])\n",
    "    W = tf.get_variable('W', shape=[features_total, 43], initializer=tf.contrib.layers.xavier_initializer())\n",
    "    bias = tf.get_variable('bias', initializer=tf.constant(0.0, shape=[43]))\n",
    "    logits = tf.matmul(output, W) + bias\n",
    "    return logits\n",
    "\n",
    "def DenseNet(x, nb_dense_block=3, growth_rate=12, nb_filter=16):\n",
    "    with tf.variable_scope(\"Initial_convolution\"):\n",
    "        x = conv2d(x, out_features=nb_filter, kernel_size=3)\n",
    "        x = tf.contrib.layers.batch_norm(x, scale=True, is_training=is_training, updates_collections=None)\n",
    "    #nb_layers = [12,24,16]\n",
    "    nb_layers = [12,12,12]\n",
    "    for block in range(nb_dense_block):\n",
    "        with tf.variable_scope(\"Block_%d\" % block):\n",
    "            x, nb_filter = dense_block(x, nb_layers[block], nb_filter, growth_rate)\n",
    "            if block != nb_dense_block - 1:\n",
    "                with tf.variable_scope(\"Transition_after_block_%d\" % block):\n",
    "                    x = transition_layer(x, nb_filter)\n",
    "\n",
    "    with tf.variable_scope(\"Transition_to_classes\"):\n",
    "        logits = transition_layer_to_classes(x)\n",
    "    return logits"
   ]
  },
  {
   "cell_type": "code",
   "execution_count": 10,
   "metadata": {},
   "outputs": [],
   "source": [
    "logits = DenseNet(x)\n",
    "prediction = tf.nn.softmax(logits)\n",
    "# Losses\n",
    "cross_entropy = tf.reduce_mean(tf.nn.softmax_cross_entropy_with_logits(logits=logits, labels=one_hot_y))\n",
    "l2_loss = tf.add_n([tf.nn.l2_loss(var) for var in tf.trainable_variables()])\n",
    "\n",
    "# optimizer and train step\n",
    "#optimizer = tf.train.MomentumOptimizer(0.001, 0.9, use_nesterov=True)\n",
    "optimizer = tf.train.AdamOptimizer(learning_rate = 0.001)\n",
    "training_operation = optimizer.minimize(cross_entropy + l2_loss * weight_decay)\n",
    "\n",
    "#optimizer2 = tf.train.MomentumOptimizer(0.0001, 0.9, use_nesterov=True)\n",
    "#training_operation2 = optimizer2.minimize(cross_entropy + l2_loss * weight_decay)\n",
    "correct_prediction = tf.equal(tf.argmax(prediction, 1), tf.argmax(one_hot_y, 1))\n",
    "accuracy_operation = tf.reduce_mean(tf.cast(correct_prediction, tf.float32))\n",
    "confusion_matrix = tf.contrib.metrics.confusion_matrix(tf.argmax(prediction, 1), tf.argmax(one_hot_y, 1))"
   ]
  },
  {
   "cell_type": "code",
   "execution_count": 11,
   "metadata": {},
   "outputs": [],
   "source": [
    "def evaluate(X_data, y_data):\n",
    "    num_examples = len(X_data)\n",
    "    total_accuracy = 0\n",
    "    total_loss = 0\n",
    "    sess = tf.get_default_session()\n",
    "    for offset in range(0, num_examples, BATCH_SIZE):\n",
    "        batch_x, batch_y = X_data[offset:offset+BATCH_SIZE], y_data[offset:offset+BATCH_SIZE]\n",
    "        accuracy, loss = sess.run([accuracy_operation, cross_entropy], feed_dict={x: batch_x, y: batch_y, keep_prob: 1.0, is_training: False})\n",
    "        total_accuracy += (accuracy * len(batch_x))\n",
    "        total_loss += (loss * len(batch_x))\n",
    "    return total_accuracy / num_examples, total_loss / num_examples\n",
    "\n",
    "def evaluate3(X_data, y_data):\n",
    "    num_examples = len(X_data)\n",
    "    total_accuracy = 0\n",
    "    sess = tf.get_default_session()\n",
    "    for offset in range(0, num_examples, BATCH_SIZE):\n",
    "        batch_x, batch_y = X_data[offset:offset+BATCH_SIZE], y_data[offset:offset+BATCH_SIZE]\n",
    "        accuracy = sess.run(accuracy_operation, feed_dict={x: batch_x, y: batch_y, keep_prob: 0.5, is_training: True})\n",
    "        total_accuracy += (accuracy * len(batch_x))\n",
    "    return total_accuracy / num_examples\n",
    "\n",
    "def evaluate2(X_data, y_data):\n",
    "    sess = tf.get_default_session()\n",
    "    \n",
    "    matrix = sess.run(confusion_matrix, feed_dict={x: X_data, y: y_data, keep_prob: 1.0, is_training: False})\n",
    "    recall = 0\n",
    "    precision = 0\n",
    "    accu = []\n",
    "    column = []\n",
    "    line = []\n",
    "    for i in range( len(matrix) ):\n",
    "        accu.append(0)\n",
    "        column.append(0)\n",
    "        line.append(0)\n",
    "    for i in range( len(matrix) ):\n",
    "        accu[i] = matrix[i][i]\n",
    "    for i in range( len(matrix) ):\n",
    "        for j in range( len(matrix) ):\n",
    "            column[i]+=matrix[j][i]\n",
    "    for i in range( len(matrix) ):\n",
    "        for j in range( len(matrix) ):\n",
    "            line[i]+=matrix[i][j]\n",
    "    for i in range( len(matrix) ):\n",
    "        if column[i] != 0:\n",
    "            recall+=float(accu[i])/column[i]\n",
    "    recall = recall/len(matrix)\n",
    "    \n",
    "    for i in range( len(matrix) ):\n",
    "        if line[i] != 0:\n",
    "            precision+=float(accu[i])/line[i]\n",
    "    precision = precision/len(matrix)\n",
    "    \n",
    "    return recall, precision\n"
   ]
  },
  {
   "cell_type": "code",
   "execution_count": 12,
   "metadata": {},
   "outputs": [
    {
     "name": "stdout",
     "output_type": "stream",
     "text": [
      "Training...\n",
      "\n",
      "EPOCH 1 ...\n",
      "Validation Accuracy = 0.349\n",
      "Train Accuracy = 0.796\n",
      "\n",
      "EPOCH 2 ...\n",
      "Validation Accuracy = 0.899\n",
      "Train Accuracy = 0.920\n",
      "\n",
      "EPOCH 3 ...\n",
      "Validation Accuracy = 0.876\n",
      "Train Accuracy = 0.947\n",
      "\n",
      "EPOCH 4 ...\n",
      "Validation Accuracy = 0.910\n",
      "Train Accuracy = 0.951\n",
      "\n",
      "EPOCH 5 ...\n",
      "Validation Accuracy = 0.910\n",
      "Train Accuracy = 0.960\n",
      "\n",
      "EPOCH 6 ...\n",
      "Validation Accuracy = 0.950\n",
      "Train Accuracy = 0.970\n",
      "\n",
      "Test Accuracy = 0.947\n",
      "Model saved\n"
     ]
    }
   ],
   "source": [
    "saver = tf.train.Saver()\n",
    "with tf.Session() as sess:\n",
    "    sess.run(tf.global_variables_initializer())\n",
    "    num_examples = len(X_train)\n",
    "    \n",
    "    print(\"Training...\")\n",
    "    print()\n",
    "    X_train_pre = preprocess(X_train).reshape(-1, W, H, 1)\n",
    "    X_val_pre = preprocess(X_valid).reshape(-1, W, H, 1)\n",
    "    for i in range(EPOCHS):\n",
    "        X_train_pre, y_train = shuffle(X_train_pre, y_train)\n",
    "        for offset in range(0, num_examples, BATCH_SIZE):\n",
    "            end = offset + BATCH_SIZE\n",
    "            batch_x, batch_y = X_train_pre[offset:end], y_train[offset:end]\n",
    "            sess.run(training_operation, feed_dict={x: batch_x, y: batch_y, keep_prob: 0.5, is_training: True})\n",
    "            \n",
    "        validation_accuracy, _ = evaluate(X_val_pre, y_valid)\n",
    "        train_accuracy = evaluate3(X_train_pre, y_train)\n",
    "        print(\"EPOCH {} ...\".format(i+1))\n",
    "        print(\"Validation Accuracy = {:.3f}\".format(validation_accuracy))\n",
    "        print(\"Train Accuracy = {:.3f}\".format(train_accuracy))\n",
    "        print()\n",
    "        if validation_accuracy>0.93:\n",
    "            break\n",
    "    X_test_prep = preprocess(X_test).reshape(-1, W, H, 1)\n",
    "    test_accuracy, _ = evaluate(X_test_prep,y_test)\n",
    "    print(\"Test Accuracy = {:.3f}\".format(test_accuracy))    \n",
    "    saver.save(sess, './densenet')\n",
    "    print(\"Model saved\")"
   ]
  },
  {
   "cell_type": "code",
   "execution_count": 13,
   "metadata": {},
   "outputs": [],
   "source": [
    "# 200 samples were randomly selected from the test set to estimate recall rate and accuracy rate.\n",
    "import random \n",
    "count=0\n",
    "i=0\n",
    "seq = []\n",
    "while True:\n",
    "    X_tmp = X_test.copy()\n",
    "    y_tmp = y_test.copy()\n",
    "    while count<200:\n",
    "        i=random.randint(0, len(y_tmp)-count)\n",
    "        seq.append((X_test[i], y_tmp[i]))\n",
    "        X_tmp[i], X_tmp[len(y_tmp)-count-1] = X_tmp[len(y_tmp)-count-1], X_tmp[i]\n",
    "        y_tmp[i], y_tmp[len(y_tmp)-count-1] = y_tmp[len(y_tmp)-count-1], y_tmp[i]\n",
    "        count+=1\n",
    "    sub=[]\n",
    "    for j in range(200):\n",
    "        sub.append(seq[j][1])\n",
    "    if len(set(sub))==43:\n",
    "        del sub, X_tmp, y_tmp\n",
    "        break\n",
    "    del sub, seq, X_tmp, y_tmp\n",
    "    seq =[]\n",
    "    count=0\n",
    "    i=0\n",
    "X_test2, y_test2 = zip(*seq)\n",
    "X_test2=np.array(X_test2)\n",
    "y_test2=np.array(y_test2)"
   ]
  },
  {
   "cell_type": "code",
   "execution_count": 14,
   "metadata": {},
   "outputs": [
    {
     "name": "stdout",
     "output_type": "stream",
     "text": [
      "INFO:tensorflow:Restoring parameters from ./densenet\n",
      "Test Recall = 0.915\n",
      "Test Precision = 0.919\n"
     ]
    }
   ],
   "source": [
    "with tf.Session() as sess:\n",
    "    #saver = tf.train.import_meta_graph('densenet.meta')\n",
    "    saver.restore(sess, tf.train.latest_checkpoint('.'))\n",
    "    X_test_prep2 = preprocess(X_test2).reshape(-1, W, H, 1)\n",
    "    test_recall, test_precision = evaluate2(X_test_prep2,y_test2)\n",
    "    print(\"Test Recall = {:.3f}\".format(test_recall))\n",
    "    print(\"Test Precision = {:.3f}\".format(test_precision))"
   ]
  },
  {
   "cell_type": "code",
   "execution_count": null,
   "metadata": {},
   "outputs": [],
   "source": [
    "best_loss = 1000000.0\n",
    "cur_e = 0\n",
    "with tf.Session() as sess:\n",
    "    saver.restore(sess, tf.train.latest_checkpoint('.'))\n",
    "    num_examples = len(X_train)\n",
    "    \n",
    "    print(\"Training...\")\n",
    "    print()\n",
    "    X_train_pre = preprocess(X_train).reshape(-1, W, H, 1)\n",
    "    X_val_pre = preprocess(X_valid).reshape(-1, W, H, 1)\n",
    "    for i in range(10):\n",
    "        X_train_pre, y_train = shuffle(X_train_pre, y_train)\n",
    "        for offset in range(0, num_examples, BATCH_SIZE):\n",
    "            end = offset + BATCH_SIZE\n",
    "            batch_x, batch_y = X_train_pre[offset:end], y_train[offset:end]\n",
    "            sess.run(training_operation2, feed_dict={x: batch_x, y: batch_y, keep_prob: 0.5, is_training: True})\n",
    "            \n",
    "        validation_accuracy, validation_loss = evaluate(X_val_pre, y_valid)\n",
    "        train_accuracy = evaluate3(X_train_pre, y_train)\n",
    "        print(\"EPOCH {} ...\".format(i+1))\n",
    "        print(\"Validation loss = {:.3f}\".format(validation_loss))\n",
    "        print(\"Validation Accuracy = {:.3f}\".format(validation_accuracy))\n",
    "        print(\"Train Accuracy = {:.3f}\".format(train_accuracy))\n",
    "        print()\n",
    "        if validation_loss<best_loss:\n",
    "            best_loss = validation_loss\n",
    "            cur_e = i\n",
    "        elif (i-cur_e)>3:\n",
    "            print (\"early stopping\")\n",
    "            break\n",
    "        \n",
    "    X_test_prep = preprocess(X_test).reshape(-1, W, H, 1)\n",
    "    test_accuracy = evaluate(X_test_prep,y_test)\n",
    "    test_recall, test_precision = evaluate2(X_test_prep,y_test)\n",
    "    print(\"Test Accuracy = {:.3f}\".format(test_accuracy))\n",
    "    print(\"Test Recall = {:.3f}\".format(test_recall))\n",
    "    print(\"Test Precision = {:.3f}\".format(test_precision))\n",
    "    saver.save(sess, './densenet')\n",
    "    print(\"Model saved\")"
   ]
  },
  {
   "cell_type": "markdown",
   "metadata": {},
   "source": [
    "---\n",
    "\n",
    "## Step 3: Test a Model on New Images\n",
    "\n",
    "To give yourself more insight into how your model is working, download at least five pictures of German traffic signs from the web and use your model to predict the traffic sign type.\n",
    "\n",
    "You may find `signnames.csv` useful as it contains mappings from the class id (integer) to the actual sign name."
   ]
  },
  {
   "cell_type": "markdown",
   "metadata": {},
   "source": [
    "### Load and Output the Images"
   ]
  },
  {
   "cell_type": "code",
   "execution_count": 16,
   "metadata": {},
   "outputs": [],
   "source": [
    "### Load the images and plot them here.\n",
    "### Feel free to use as many code cells as needed.\n",
    "import matplotlib.image as mpimg\n",
    "import os\n",
    "\n",
    "#os.listdir(\"test_images/\")\n",
    "X_extra = np.zeros((5, W, H, 4),dtype='uint8')\n",
    "i=0\n",
    "for img in os.listdir(\"test_images/\"):\n",
    "    img1 = \"test_images/\" + img\n",
    "    image = mpimg.imread(img1)\n",
    "    image = cv2.resize(image, (32,32))\n",
    "    X_extra[i] = image\n",
    "    i+=1"
   ]
  },
  {
   "cell_type": "code",
   "execution_count": 19,
   "metadata": {},
   "outputs": [],
   "source": [
    "def evaluate4(X_data):\n",
    "    sess = tf.get_default_session()\n",
    "    prob = sess.run(prediction, feed_dict={x: X_data, keep_prob: 1.0, is_training: False})\n",
    "    return np.argmax(prob,1)\n",
    "\n",
    "def evaluate5(X_data):\n",
    "    sess = tf.get_default_session()\n",
    "    values = tf.nn.top_k(prediction,5)\n",
    "    top_k_prob = sess.run([prediction, values],feed_dict={x: X_data, keep_prob: 1.0, is_training: False})\n",
    "    return top_k_prob"
   ]
  },
  {
   "cell_type": "markdown",
   "metadata": {},
   "source": [
    "### Predict the Sign Type for Each Image"
   ]
  },
  {
   "cell_type": "code",
   "execution_count": 24,
   "metadata": {},
   "outputs": [
    {
     "name": "stdout",
     "output_type": "stream",
     "text": [
      "INFO:tensorflow:Restoring parameters from ./densenet\n"
     ]
    },
    {
     "data": {
      "image/png": "[encoded data removed]",
      "text/plain": [
       "<matplotlib.figure.Figure at 0x7f50ac765198>"
      ]
     },
     "metadata": {},
     "output_type": "display_data"
    },
    {
     "data": {
      "image/png": "[encoded data removed]",
      "text/plain": [
       "<matplotlib.figure.Figure at 0x7f50c8396be0>"
      ]
     },
     "metadata": {},
     "output_type": "display_data"
    },
    {
     "data": {
      "image/png": "[encoded data removed]",
      "text/plain": [
       "<matplotlib.figure.Figure at 0x7f50c83280f0>"
      ]
     },
     "metadata": {},
     "output_type": "display_data"
    },
    {
     "data": {
      "image/png": "[encoded data removed]",
      "text/plain": [
       "<matplotlib.figure.Figure at 0x7f50c827ec18>"
      ]
     },
     "metadata": {},
     "output_type": "display_data"
    },
    {
     "data": {
      "image/png": "[encoded data removed]",
      "text/plain": [
       "<matplotlib.figure.Figure at 0x7f50ac744630>"
      ]
     },
     "metadata": {},
     "output_type": "display_data"
    }
   ],
   "source": [
    "### Run the predictions here and use the model to output the prediction for each image.\n",
    "### Make sure to pre-process the images with the same pre-processing pipeline used earlier.\n",
    "### Feel free to use as many code cells as needed.\n",
    "import csv\n",
    "with open('signnames.csv','r') as sign_name:\n",
    "    reader = csv.reader(sign_name)\n",
    "    names = list(reader)\n",
    "\n",
    "names = names[1::]\n",
    "\n",
    "with tf.Session() as sess:\n",
    "    saver.restore(sess, tf.train.latest_checkpoint('.'))\n",
    "    X_extra_pre = preprocess(X_extra).reshape(-1, W, H, 1)\n",
    "    X_extra_prob = evaluate4(X_extra_pre)\n",
    "\n",
    "for i in range(len(X_extra)):\n",
    "    plt.figure(figsize=(1,1))\n",
    "    img = X_extra[i]\n",
    "    plt.imshow(img)\n",
    "    plt.title(names[X_extra_prob[i]][1],fontsize=10)\n",
    "    plt.axis('off')\n",
    "    plt.show()"
   ]
  },
  {
   "cell_type": "markdown",
   "metadata": {},
   "source": [
    "### Analyze Performance"
   ]
  },
  {
   "cell_type": "code",
   "execution_count": 4,
   "metadata": {
    "collapsed": true
   },
   "outputs": [],
   "source": [
    "### Calculate the accuracy for these 5 new images. \n",
    "### For example, if the model predicted 1 out of 5 signs correctly, it's 20% accurate on these new images.\n",
    "There should be no mistake. accurate is 100%"
   ]
  },
  {
   "cell_type": "markdown",
   "metadata": {},
   "source": [
    "### Output Top 5 Softmax Probabilities For Each Image Found on the Web"
   ]
  },
  {
   "cell_type": "markdown",
   "metadata": {},
   "source": [
    "For each of the new images, print out the model's softmax probabilities to show the **certainty** of the model's predictions (limit the output to the top 5 probabilities for each image). [`tf.nn.top_k`](https://www.tensorflow.org/versions/r0.12/api_docs/python/nn.html#top_k) could prove helpful here. \n",
    "\n",
    "The example below demonstrates how tf.nn.top_k can be used to find the top k predictions for each image.\n",
    "\n",
    "`tf.nn.top_k` will return the values and indices (class ids) of the top k predictions. So if k=3, for each sign, it'll return the 3 largest probabilities (out of a possible 43) and the correspoding class ids.\n",
    "\n",
    "Take this numpy array as an example. The values in the array represent predictions. The array contains softmax probabilities for five candidate images with six possible classes. `tf.nn.top_k` is used to choose the three classes with the highest probability:\n",
    "\n",
    "```\n",
    "# (5, 6) array\n",
    "a = np.array([[ 0.24879643,  0.07032244,  0.12641572,  0.34763842,  0.07893497,\n",
    "         0.12789202],\n",
    "       [ 0.28086119,  0.27569815,  0.08594638,  0.0178669 ,  0.18063401,\n",
    "         0.15899337],\n",
    "       [ 0.26076848,  0.23664738,  0.08020603,  0.07001922,  0.1134371 ,\n",
    "         0.23892179],\n",
    "       [ 0.11943333,  0.29198961,  0.02605103,  0.26234032,  0.1351348 ,\n",
    "         0.16505091],\n",
    "       [ 0.09561176,  0.34396535,  0.0643941 ,  0.16240774,  0.24206137,\n",
    "         0.09155967]])\n",
    "```\n",
    "\n",
    "Running it through `sess.run(tf.nn.top_k(tf.constant(a), k=3))` produces:\n",
    "\n",
    "```\n",
    "TopKV2(values=array([[ 0.34763842,  0.24879643,  0.12789202],\n",
    "       [ 0.28086119,  0.27569815,  0.18063401],\n",
    "       [ 0.26076848,  0.23892179,  0.23664738],\n",
    "       [ 0.29198961,  0.26234032,  0.16505091],\n",
    "       [ 0.34396535,  0.24206137,  0.16240774]]), indices=array([[3, 0, 5],\n",
    "       [0, 1, 4],\n",
    "       [0, 5, 1],\n",
    "       [1, 3, 5],\n",
    "       [1, 4, 3]], dtype=int32))\n",
    "```\n",
    "\n",
    "Looking just at the first row we get `[ 0.34763842,  0.24879643,  0.12789202]`, you can confirm these are the 3 largest probabilities in `a`. You'll also notice `[3, 0, 5]` are the corresponding indices."
   ]
  },
  {
   "cell_type": "code",
   "execution_count": 26,
   "metadata": {},
   "outputs": [
    {
     "name": "stdout",
     "output_type": "stream",
     "text": [
      "INFO:tensorflow:Restoring parameters from ./densenet\n",
      "[array([[  6.86436053e-03,   3.10683926e-03,   6.54592222e-05,\n",
      "          1.79091527e-04,   4.62910673e-03,   2.09924867e-04,\n",
      "          7.13831878e-06,   1.76860616e-02,   2.52988413e-02,\n",
      "          1.96640485e-06,   1.97793497e-07,   4.75731349e-06,\n",
      "          2.46848430e-07,   1.11492223e-03,   5.20279348e-01,\n",
      "          1.07604947e-05,   1.55166272e-05,   4.89872173e-06,\n",
      "          1.03965634e-04,   1.47801029e-06,   2.13684621e-06,\n",
      "          1.60160216e-05,   3.78072173e-07,   7.63986463e-06,\n",
      "          4.16810542e-01,   4.21053010e-05,   4.01544014e-07,\n",
      "          3.58534908e-06,   9.45997017e-05,   1.18858070e-05,\n",
      "          1.35169330e-05,   1.87165881e-07,   2.73995493e-08,\n",
      "          1.15921733e-03,   2.16981898e-05,   1.16850145e-03,\n",
      "          4.96770772e-05,   4.07871376e-05,   8.74321195e-05,\n",
      "          1.01306296e-05,   8.74155667e-04,   3.58459488e-07,\n",
      "          1.04408031e-07],\n",
      "       [  3.41029760e-10,   5.76435255e-09,   2.60348774e-11,\n",
      "          2.96026287e-10,   7.30541239e-10,   2.28733243e-12,\n",
      "          3.64864128e-12,   1.38228941e-07,   6.66898148e-10,\n",
      "          1.39218574e-08,   1.36992695e-09,   5.81372783e-10,\n",
      "          1.95755788e-07,   9.99961734e-01,   1.42883894e-09,\n",
      "          4.98535879e-09,   1.18329568e-09,   3.74298179e-05,\n",
      "          3.12476489e-10,   1.22974651e-11,   3.05941494e-10,\n",
      "          1.36836905e-11,   1.28609603e-08,   4.05527348e-12,\n",
      "          3.97030320e-09,   6.11807716e-09,   5.98504080e-10,\n",
      "          6.17935651e-12,   5.58170843e-09,   3.18813576e-09,\n",
      "          1.08722151e-08,   1.34728617e-10,   9.56245572e-08,\n",
      "          1.94672189e-08,   9.30065955e-11,   3.44586026e-10,\n",
      "          1.26263657e-07,   4.66511487e-13,   6.07634429e-11,\n",
      "          9.53212509e-10,   6.83867907e-10,   2.14461089e-08,\n",
      "          2.27380610e-07],\n",
      "       [  3.33648212e-02,   1.30308578e-02,   3.26719804e-04,\n",
      "          7.52171129e-03,   4.71014623e-03,   7.73719046e-04,\n",
      "          4.61311138e-04,   4.45135683e-03,   5.83969464e-04,\n",
      "          2.24805917e-05,   1.21852308e-05,   5.23572206e-04,\n",
      "          9.08184884e-05,   8.91579613e-02,   6.25830318e-04,\n",
      "          3.04465089e-02,   5.06686629e-04,   1.80605173e-04,\n",
      "          2.69970037e-02,   1.40149583e-04,   1.37572744e-04,\n",
      "          2.43980539e-05,   9.55268843e-05,   3.55279440e-07,\n",
      "          5.14737405e-02,   4.06226056e-04,   3.65202373e-04,\n",
      "          3.15593934e-05,   2.79646512e-04,   3.67795961e-04,\n",
      "          5.93668490e-04,   9.48623419e-05,   1.32422559e-02,\n",
      "          1.35954358e-02,   7.44393852e-04,   6.91807449e-01,\n",
      "          2.88270251e-03,   7.95588829e-03,   1.17082894e-03,\n",
      "          1.89871382e-04,   7.55344081e-05,   1.65662146e-04,\n",
      "          3.70966416e-04],\n",
      "       [  2.76211533e-04,   1.27267465e-03,   2.63646856e-04,\n",
      "          1.89434574e-03,   4.39775089e-04,   4.87549725e-04,\n",
      "          3.87836923e-03,   4.04263847e-05,   2.77949963e-04,\n",
      "          2.42174283e-05,   4.28529347e-05,   3.74847680e-01,\n",
      "          2.44157016e-03,   5.39684109e-03,   2.65629758e-04,\n",
      "          7.48235616e-05,   2.40511599e-05,   5.58620435e-04,\n",
      "          2.52906438e-02,   9.46832728e-03,   3.14207859e-02,\n",
      "          1.05138402e-02,   2.07547634e-03,   8.49788729e-03,\n",
      "          6.73612906e-03,   5.40325791e-02,   7.78507218e-02,\n",
      "          6.96161091e-02,   2.49463364e-01,   7.03463471e-03,\n",
      "          3.11997775e-02,   5.22543769e-03,   4.71699779e-04,\n",
      "          8.20691814e-04,   6.41995721e-05,   1.52329740e-03,\n",
      "          6.50042784e-04,   5.20366384e-03,   1.73083565e-03,\n",
      "          5.73401246e-03,   1.61501099e-04,   2.35008053e-03,\n",
      "          3.57037119e-04],\n",
      "       [  1.73126273e-06,   2.95446574e-04,   2.45218020e-04,\n",
      "          5.09760757e-05,   3.32407560e-03,   2.83694158e-06,\n",
      "          1.08278449e-07,   1.61637345e-05,   2.23491475e-06,\n",
      "          1.12325535e-04,   6.19351977e-06,   1.90869559e-05,\n",
      "          9.04669046e-01,   9.87986475e-03,   2.24952373e-06,\n",
      "          7.03527927e-02,   9.56895065e-07,   2.20813581e-06,\n",
      "          1.34564143e-05,   2.85791932e-04,   9.04388980e-06,\n",
      "          6.40724602e-06,   2.12107829e-04,   7.80381058e-08,\n",
      "          1.29050363e-06,   3.32132477e-05,   4.97813104e-03,\n",
      "          2.96342096e-05,   3.94086737e-06,   4.25125251e-07,\n",
      "          7.35979597e-07,   2.07799485e-06,   9.83045669e-04,\n",
      "          6.32500041e-06,   1.28408676e-04,   1.42892695e-03,\n",
      "          1.21136773e-05,   1.02263516e-06,   2.97489052e-04,\n",
      "          1.83025468e-03,   6.93089212e-04,   5.64472284e-05,\n",
      "          2.90310459e-06]], dtype=float32), TopKV2(values=array([[  5.20279348e-01,   4.16810542e-01,   2.52988413e-02,\n",
      "          1.76860616e-02,   6.86436053e-03],\n",
      "       [  9.99961734e-01,   3.74298179e-05,   2.27380610e-07,\n",
      "          1.95755788e-07,   1.38228941e-07],\n",
      "       [  6.91807449e-01,   8.91579613e-02,   5.14737405e-02,\n",
      "          3.33648212e-02,   3.04465089e-02],\n",
      "       [  3.74847680e-01,   2.49463364e-01,   7.78507218e-02,\n",
      "          6.96161091e-02,   5.40325791e-02],\n",
      "       [  9.04669046e-01,   7.03527927e-02,   9.87986475e-03,\n",
      "          4.97813104e-03,   3.32407560e-03]], dtype=float32), indices=array([[14, 24,  8,  7,  0],\n",
      "       [13, 17, 42, 12,  7],\n",
      "       [35, 13, 24,  0, 15],\n",
      "       [11, 28, 26, 27, 25],\n",
      "       [12, 15, 13, 26,  4]], dtype=int32))]\n"
     ]
    }
   ],
   "source": [
    "### Print out the top five softmax probabilities for the predictions on the German traffic sign images found on the web. \n",
    "### Feel free to use as many code cells as needed.\n",
    "with tf.Session() as sess:\n",
    "    saver.restore(sess, tf.train.latest_checkpoint('.'))\n",
    "    X_extra_pre_topk = preprocess(X_extra).reshape(-1, W, H, 1)\n",
    "    X_extra_prob_topk = evaluate5(X_extra_pre_topk)\n",
    "    print (X_extra_prob_topk)"
   ]
  },
  {
   "cell_type": "markdown",
   "metadata": {},
   "source": [
    "### Project Writeup\n",
    "\n",
    "Once you have completed the code implementation, document your results in a project writeup using this [template](https://github.com/udacity/CarND-Traffic-Sign-Classifier-Project/blob/master/writeup_template.md) as a guide. The writeup can be in a markdown or pdf file. "
   ]
  },
  {
   "cell_type": "markdown",
   "metadata": {},
   "source": [
    "> **Note**: Once you have completed all of the code implementations and successfully answered each question above, you may finalize your work by exporting the iPython Notebook as an HTML document. You can do this by using the menu above and navigating to  \\n\",\n",
    "    \"**File -> Download as -> HTML (.html)**. Include the finished document along with this notebook as your submission."
   ]
  },
  {
   "cell_type": "markdown",
   "metadata": {},
   "source": [
    "---\n",
    "\n",
    "## Step 4 (Optional): Visualize the Neural Network's State with Test Images\n",
    "\n",
    " This Section is not required to complete but acts as an additional excersise for understaning the output of a neural network's weights. While neural networks can be a great learning device they are often referred to as a black box. We can understand what the weights of a neural network look like better by plotting their feature maps. After successfully training your neural network you can see what it's feature maps look like by plotting the output of the network's weight layers in response to a test stimuli image. From these plotted feature maps, it's possible to see what characteristics of an image the network finds interesting. For a sign, maybe the inner network feature maps react with high activation to the sign's boundary outline or to the contrast in the sign's painted symbol.\n",
    "\n",
    " Provided for you below is the function code that allows you to get the visualization output of any tensorflow weight layer you want. The inputs to the function should be a stimuli image, one used during training or a new one you provided, and then the tensorflow variable name that represents the layer's state during the training process, for instance if you wanted to see what the [LeNet lab's](https://classroom.udacity.com/nanodegrees/nd013/parts/fbf77062-5703-404e-b60c-95b78b2f3f9e/modules/6df7ae49-c61c-4bb2-a23e-6527e69209ec/lessons/601ae704-1035-4287-8b11-e2c2716217ad/concepts/d4aca031-508f-4e0b-b493-e7b706120f81) feature maps looked like for it's second convolutional layer you could enter conv2 as the tf_activation variable.\n",
    "\n",
    "For an example of what feature map outputs look like, check out NVIDIA's results in their paper [End-to-End Deep Learning for Self-Driving Cars](https://devblogs.nvidia.com/parallelforall/deep-learning-self-driving-cars/) in the section Visualization of internal CNN State. NVIDIA was able to show that their network's inner weights had high activations to road boundary lines by comparing feature maps from an image with a clear path to one without. Try experimenting with a similar test to show that your trained network's weights are looking for interesting features, whether it's looking at differences in feature maps from images with or without a sign, or even what feature maps look like in a trained network vs a completely untrained one on the same sign image.\n",
    "\n",
    "<figure>\n",
    " <img src=\"visualize_cnn.png\" width=\"380\" alt=\"Combined Image\" />\n",
    " <figcaption>\n",
    " <p></p> \n",
    " <p style=\"text-align: center;\"> Your output should look something like this (above)</p> \n",
    " </figcaption>\n",
    "</figure>\n",
    " <p></p> \n"
   ]
  },
  {
   "cell_type": "code",
   "execution_count": null,
   "metadata": {
    "collapsed": true
   },
   "outputs": [],
   "source": [
    "### Visualize your network's feature maps here.\n",
    "### Feel free to use as many code cells as needed.\n",
    "\n",
    "# image_input: the test image being fed into the network to produce the feature maps\n",
    "# tf_activation: should be a tf variable name used during your training procedure that represents the calculated state of a specific weight layer\n",
    "# activation_min/max: can be used to view the activation contrast in more detail, by default matplot sets min and max to the actual min and max values of the output\n",
    "# plt_num: used to plot out multiple different weight feature map sets on the same block, just extend the plt number for each new feature map entry\n",
    "\n",
    "def outputFeatureMap(image_input, tf_activation, activation_min=-1, activation_max=-1 ,plt_num=1):\n",
    "    # Here make sure to preprocess your image_input in a way your network expects\n",
    "    # with size, normalization, ect if needed\n",
    "    # image_input =\n",
    "    # Note: x should be the same name as your network's tensorflow data placeholder variable\n",
    "    # If you get an error tf_activation is not defined it may be having trouble accessing the variable from inside a function\n",
    "    activation = tf_activation.eval(session=sess,feed_dict={x : image_input})\n",
    "    featuremaps = activation.shape[3]\n",
    "    plt.figure(plt_num, figsize=(15,15))\n",
    "    for featuremap in range(featuremaps):\n",
    "        plt.subplot(6,8, featuremap+1) # sets the number of feature maps to show on each row and column\n",
    "        plt.title('FeatureMap ' + str(featuremap)) # displays the feature map number\n",
    "        if activation_min != -1 & activation_max != -1:\n",
    "            plt.imshow(activation[0,:,:, featuremap], interpolation=\"nearest\", vmin =activation_min, vmax=activation_max, cmap=\"gray\")\n",
    "        elif activation_max != -1:\n",
    "            plt.imshow(activation[0,:,:, featuremap], interpolation=\"nearest\", vmax=activation_max, cmap=\"gray\")\n",
    "        elif activation_min !=-1:\n",
    "            plt.imshow(activation[0,:,:, featuremap], interpolation=\"nearest\", vmin=activation_min, cmap=\"gray\")\n",
    "        else:\n",
    "            plt.imshow(activation[0,:,:, featuremap], interpolation=\"nearest\", cmap=\"gray\")"
   ]
  }
 ],
 "metadata": {
  "anaconda-cloud": {},
  "kernelspec": {
   "display_name": "Python 3",
   "language": "python",
   "name": "python3"
  },
  "language_info": {
   "codemirror_mode": {
    "name": "ipython",
    "version": 3
   },
   "file_extension": ".py",
   "mimetype": "text/x-python",
   "name": "python",
   "nbconvert_exporter": "python",
   "pygments_lexer": "ipython3",
   "version": "3.5.2"
  },
  "widgets": {
   "state": {},
   "version": "1.1.2"
  }
 },
 "nbformat": 4,
 "nbformat_minor": 1
}
